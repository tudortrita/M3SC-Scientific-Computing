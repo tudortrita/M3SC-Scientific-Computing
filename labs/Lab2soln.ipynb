{
 "cells": [
  {
   "cell_type": "markdown",
   "metadata": {},
   "source": [
    "## M345SC Lab 2 (with solution)"
   ]
  },
  {
   "cell_type": "markdown",
   "metadata": {},
   "source": [
    "The course bitbucket repo has been updated a few times in the last week. Ensure that you can sync your online fork of the repo. If/when using git on MLC machines, you should first launch tortoise git from the software hub, and then you will be provided with git options when right-clicking on a file or folder"
   ]
  },
  {
   "cell_type": "markdown",
   "metadata": {},
   "source": [
    "#### Task 1: Timing code"
   ]
  },
  {
   "cell_type": "markdown",
   "metadata": {},
   "source": [
    "There are a few different approaches for timing code in Python.\n",
    "You can use the *time* function in the time module as below:"
   ]
  },
  {
   "cell_type": "code",
   "execution_count": 5,
   "metadata": {},
   "outputs": [
    {
     "name": "stdout",
     "output_type": "stream",
     "text": [
      "dt =  0.025784969329833984\n"
     ]
    }
   ],
   "source": [
    "import numpy as np\n",
    "import time\n",
    "X = list(np.random.randint(1,1000,800)) #uncomment and use if/as needed\n",
    "t1 = time.time()\n",
    "y = np.sin(np.outer(X,X))\n",
    "t2 = time.time()\n",
    "print(\"dt = \",t2-t1)"
   ]
  },
  {
   "cell_type": "markdown",
   "metadata": {},
   "source": [
    "And you can also use the timeit function:"
   ]
  },
  {
   "cell_type": "code",
   "execution_count": 4,
   "metadata": {},
   "outputs": [
    {
     "name": "stdout",
     "output_type": "stream",
     "text": [
      "19.7 ms ± 866 µs per loop (mean ± std. dev. of 7 runs, 10 loops each)\n"
     ]
    }
   ],
   "source": [
    "timeit np.sin(np.outer(X,X))"
   ]
  },
  {
   "cell_type": "markdown",
   "metadata": {},
   "source": [
    "You will now investigate how the run time for sorting algorithms depends on the list length. Functions for merge and insertion sorts are below."
   ]
  },
  {
   "cell_type": "code",
   "execution_count": 1,
   "metadata": {
    "collapsed": true,
    "scrolled": true
   },
   "outputs": [],
   "source": [
    "def isort(X):\n",
    "    \"\"\"Sort X using insertion sort algorithm and return sorted array\n",
    "    \"\"\"\n",
    "\n",
    "    S = X.copy()\n",
    "\n",
    "    for i,x in enumerate(X[1:],1):\n",
    "        #place x appropriately in partially sorted array, S\n",
    "        for j in range(i-1,-1,-1):\n",
    "            if S[j+1]<S[j]:\n",
    "                S[j],S[j+1] = S[j+1],S[j]\n",
    "            else:\n",
    "                break\n",
    "    return S\n",
    "\n",
    "def merge(L,R):\n",
    "    \"\"\"Merge 2 sorted lists provided as input\n",
    "    into a single sorted list\n",
    "    \"\"\"\n",
    "    M = [] #Merged list, initially empty\n",
    "    indL,indR = 0,0 #start indices\n",
    "    nL,nR = len(L),len(R)\n",
    "\n",
    "    #Add one element to M per iteration until an entire sublist\n",
    "    #has been added\n",
    "    for i in range(nL+nR):\n",
    "        if L[indL]<R[indR]:\n",
    "            M.append(L[indL])\n",
    "            indL = indL + 1\n",
    "            if indL>=nL:\n",
    "                M.extend(R[indR:])\n",
    "                break\n",
    "        else:\n",
    "            M.append(R[indR])\n",
    "            indR = indR + 1\n",
    "            if indR>=nR:\n",
    "                M.extend(L[indL:])\n",
    "                break\n",
    "    return M\n",
    "\n",
    "def mergesort(X):\n",
    "    \"\"\"Given a unsorted list, sort list using\n",
    "    merge sort algorithm and return sorted list\n",
    "    \"\"\"\n",
    "\n",
    "    n = len(X)\n",
    "\n",
    "    if n==1:\n",
    "        return X\n",
    "    else:\n",
    "        L = mergesort(X[:n//2])\n",
    "        R = mergesort(X[n//2:])\n",
    "        return merge(L,R)"
   ]
  },
  {
   "cell_type": "markdown",
   "metadata": {},
   "source": [
    "1) How much does the run-time for insertion sort increase when the length of the initial, unsorted list is doubled? What do you expect?"
   ]
  },
  {
   "cell_type": "code",
   "execution_count": 43,
   "metadata": {},
   "outputs": [
    {
     "name": "stdout",
     "output_type": "stream",
     "text": [
      "N=2400, dt=0.608348\n",
      "N=2400, dt=2.262932\n",
      "dt2/dt1=3.719799\n"
     ]
    }
   ],
   "source": [
    "#Run isort with N=2400\n",
    "N=2400\n",
    "X = list(np.random.randint(1,2*N,N))\n",
    "t1 = time.time()\n",
    "S = isort(X)\n",
    "t2 = time.time()\n",
    "dt1 = t2-t1\n",
    "print(\"N=%d, dt=%f\"%(N,dt1))\n",
    "X2 = list(np.random.randint(1,4*N,2*N))\n",
    "t1 = time.time()\n",
    "S = isort(X2)\n",
    "t2 = time.time()\n",
    "dt2 = t2-t1\n",
    "print(\"N=%d, dt=%f\"%(N,dt2))\n",
    "print(\"dt2/dt1=%f\"%(dt2/dt1))"
   ]
  },
  {
   "cell_type": "markdown",
   "metadata": {},
   "source": [
    "Since insertion sort requires $O(N^2)$ time, we expect the run time to increase by a factor of 4 when $N$ is doubled. "
   ]
  },
  {
   "cell_type": "markdown",
   "metadata": {},
   "source": [
    "2) Now carry out the analagous analysis for mergesort."
   ]
  },
  {
   "cell_type": "code",
   "execution_count": 76,
   "metadata": {},
   "outputs": [
    {
     "name": "stdout",
     "output_type": "stream",
     "text": [
      "N=5000, dt=0.036021\n",
      "N=5000, dt=0.074502\n",
      "dt2/dt1=2.068294\n"
     ]
    }
   ],
   "source": [
    "#Run merge sort with N=5000, N = 5000^1.1\n",
    "N=5000\n",
    "X = list(np.random.randint(1,2*N,N))\n",
    "t1 = time.time()\n",
    "S = mergesort(X)\n",
    "t2 = time.time()\n",
    "dt1m = t2-t1\n",
    "print(\"N=%d, dt=%f\"%(N,dt1m))\n",
    "X2 = list(np.random.randint(1,int(N**1.2),int(N**1.1)))\n",
    "t1 = time.time()\n",
    "S = mergesort(X2)\n",
    "t2 = time.time()\n",
    "dt2m = t2-t1\n",
    "print(\"N=%d, dt=%f\"%(N,dt2m))\n",
    "print(\"dt2/dt1=%f\"%(dt2m/dt1m))\n"
   ]
  },
  {
   "cell_type": "markdown",
   "metadata": {},
   "source": [
    "Since the runtime for mergesort (for large N) is $O(N log_2 N)$, we should consider the ratio, $r = 2N log_2(N^{1.1})/(N log_2(N))$. This simplifies to $r=2.2$. Note that timing results can vary quite a bit from one run to the next which is why *timeit* averages over several runs."
   ]
  },
  {
   "cell_type": "markdown",
   "metadata": {},
   "source": [
    "3) Consider one *level* of mergesort where *m* sorted lists of length *p* are merged into *m/2* lists of length *2p* (assume that *m* is even), and we have $N = mp$. In lecture, the running time for one level was stated to be $O(N)$. This indicates the number of required operations is: $cN + f(N)$ with $lim_{n\\rightarrow \\infty} f/N = 0$ and $c$ a constant independent of N. Construct an (useful) upper bound for $c$. Does this bound depend on *m* or *p*?"
   ]
  },
  {
   "cell_type": "markdown",
   "metadata": {},
   "source": [
    "**Ans:** In the worst-case scenario, when merging 2 length-p lists, the merge function requires 1 update of *i*, an update of either indL or indR, two comparisons, and one append per iteration with *2p* iterations. Additionally, before the loop, we have three assignments and two length calculations. So, we have *10p+5* operations per merge. There are *m/2* merges per level, so we have *5mp+5m/2* = *5N + 5m/2* operations per level. We know that $m \\le N$ so we can say the running time for one level (for our implementation) is $T < 8N$ and *c=8*.   "
   ]
  },
  {
   "cell_type": "markdown",
   "metadata": {},
   "source": [
    "####  Task 2: Setting up a word count\n",
    "In this task, you will place the words from a text file into a Python dictionary so that word counts for specified words can be quickly extracted. The line below will read in the file (if the notebook and the text file, *words.txt*, are in the same directory)."
   ]
  },
  {
   "cell_type": "code",
   "execution_count": 67,
   "metadata": {},
   "outputs": [
    {
     "name": "stdout",
     "output_type": "stream",
     "text": [
      "['sing', 'michael', 'sing', 'on']\n"
     ]
    }
   ],
   "source": [
    "infile = open('words.txt','r')\n",
    "A = infile.read()\n",
    "#Remove punctuation\n",
    "A = A.replace(',','')\n",
    "A = A.replace('?','')\n",
    "A = A.replace('.','')\n",
    "A = A.replace('!','')\n",
    "A = A.lower() #Convert to all lowercase\n",
    "words = A.split() #List (mostly) containing the words in the file\n",
    "print(words[:4])\n",
    "infile.close()"
   ]
  },
  {
   "cell_type": "markdown",
   "metadata": {},
   "source": [
    "1) Fill the dictionary below so that each word in *words* is stored as a key and the corresponding value is the number of times the word appears in the list"
   ]
  },
  {
   "cell_type": "code",
   "execution_count": 71,
   "metadata": {
    "collapsed": true
   },
   "outputs": [],
   "source": [
    "D = {} #Initializes empty dictionary\n",
    "#Add code below\n",
    "for w in words:\n",
    "    if w in D:\n",
    "        D[w] = D[w]+1\n",
    "    else:\n",
    "        D[w]=1"
   ]
  },
  {
   "cell_type": "markdown",
   "metadata": {},
   "source": [
    "2) Using your dictionary, look up how many times does the word \"fail\" appears in the file "
   ]
  },
  {
   "cell_type": "code",
   "execution_count": 75,
   "metadata": {},
   "outputs": [
    {
     "name": "stdout",
     "output_type": "stream",
     "text": [
      "19\n",
      "check: 19\n"
     ]
    }
   ],
   "source": [
    "print(D['fail'])\n",
    "print('check:',words.count('fail'))"
   ]
  },
  {
   "cell_type": "markdown",
   "metadata": {},
   "source": [
    "3) In general (i.e. not specifically for this file) what are the running times for a) creating the dictionary and b) looking up a word count?"
   ]
  },
  {
   "cell_type": "markdown",
   "metadata": {},
   "source": [
    "a) Creating the dictionary requires one key lookup per word and either an insertion  or an addition, both of which are assumed to require constant time, so the running time will be $O(N)$ for N words. (key lookup is also constant time)\n",
    "\n",
    "b) Key lookup and accessing the corresponding value are both constant time, so the total running time is $O(1)$"
   ]
  }
 ],
 "metadata": {
  "kernelspec": {
   "display_name": "Python 3",
   "language": "python",
   "name": "python3"
  },
  "language_info": {
   "codemirror_mode": {
    "name": "ipython",
    "version": 3
   },
   "file_extension": ".py",
   "mimetype": "text/x-python",
   "name": "python",
   "nbconvert_exporter": "python",
   "pygments_lexer": "ipython3",
   "version": "3.7.2"
  }
 },
 "nbformat": 4,
 "nbformat_minor": 2
}
