{
 "cells": [
  {
   "cell_type": "markdown",
   "metadata": {},
   "source": [
    "## M345SC 2019 Lab 3"
   ]
  },
  {
   "cell_type": "markdown",
   "metadata": {},
   "source": [
    "### Task 1: Barabasi-Albert network"
   ]
  },
  {
   "cell_type": "markdown",
   "metadata": {},
   "source": [
    "The Barabasi-Albert model for complex networks is based on the idea that networks evolve over time and that new nodes are more likely to link to high-degree nodes. It is (probably) the single-most important model in the field of network science as it reproduces several important qualitative features seen in large complex real-world networks.\n",
    "In this task, you will use NetworkX to generate B-A networks and investigate their properties."
   ]
  },
  {
   "cell_type": "markdown",
   "metadata": {},
   "source": [
    "1) The B-A model requires two input parameters: the total number of nodes (*N*), and the number of links, *L*,  added between a new node and the existing network upon its introduction. Use the function *nx.barabasi_albert_graph* to generate a B-A graph with *N=500* and *L=4*. Draw your graph (with node_size=6) and zoom into the figure and look around -- do you see any hubs?"
   ]
  },
  {
   "cell_type": "code",
   "execution_count": 9,
   "metadata": {},
   "outputs": [
    {
     "name": "stdout",
     "output_type": "stream",
     "text": [
      "Using matplotlib backend: Qt5Agg\n",
      "Populating the interactive namespace from numpy and matplotlib\n"
     ]
    }
   ],
   "source": [
    "import networkx as nx\n",
    "%pylab\n",
    "#Add code here \n",
    "N=500\n",
    "L=4\n",
    "graph1 = nx.barabasi_albert_graph(N,L)\n",
    "# nx.draw(graph1,node_size=6)"
   ]
  },
  {
   "cell_type": "markdown",
   "metadata": {},
   "source": [
    "2) Now, generate a B-A graph with *N=5000*, *L=4*, and an Erdos-Renyi (GNP) graph with *N=5000* and *P=0.002*.\n",
    "Compute the degree distributions for these graphs and plot them on a log-log plot."
   ]
  },
  {
   "cell_type": "code",
   "execution_count": 33,
   "metadata": {},
   "outputs": [
    {
     "data": {
      "text/plain": [
       "[<matplotlib.lines.Line2D at 0x1f9648f2fd0>]"
      ]
     },
     "execution_count": 33,
     "metadata": {},
     "output_type": "execute_result"
    }
   ],
   "source": [
    "N=5000\n",
    "L=4\n",
    "P=0.002\n",
    "graph2 = nx.barabasi_albert_graph(N,L)\n",
    "graph3 = nx.gnp_random_graph(N,P)\n",
    "dist1 = nx.degree_histogram(graph2)\n",
    "dist2 = nx.degree_histogram(graph3)\n",
    "\n",
    "loglog(linspace(0,len(dist1)-1,len(dist1)),dist1,'x')\n",
    "loglog(linspace(0,len(dist2)-1,len(dist2)),dist2,'x')\n"
   ]
  },
  {
   "cell_type": "markdown",
   "metadata": {},
   "source": [
    "3) The global clustering coefficient, *C*, is the average of the clustering coefficients of each node in a network and can be computed with *nx.cluster.average_clustering*. Compute and compare *C* for the E-R and B-A graphs (see the lecture 6 slides for the definition of *C*)."
   ]
  },
  {
   "cell_type": "code",
   "execution_count": 34,
   "metadata": {},
   "outputs": [
    {
     "name": "stdout",
     "output_type": "stream",
     "text": [
      "0.009368246755809374 0.0021665466834507137\n"
     ]
    }
   ],
   "source": [
    "cls1 = nx.cluster.average_clustering(graph2)\n",
    "cls2 = nx.cluster.average_clustering(graph3)\n",
    "\n",
    "print(cls1, cls2)\n"
   ]
  },
  {
   "cell_type": "markdown",
   "metadata": {},
   "source": [
    "Clustering is a lot higher for the B-A graph compared with the E-R graph"
   ]
  },
  {
   "cell_type": "markdown",
   "metadata": {},
   "source": [
    "### Task 2: String matching efficiency"
   ]
  },
  {
   "cell_type": "markdown",
   "metadata": {},
   "source": [
    "Our simple pattern-search algorithm utilizes a character-by-character comparison of the pattern with sub-strings in the larger genetic sequence:"
   ]
  },
  {
   "cell_type": "code",
   "execution_count": 39,
   "metadata": {},
   "outputs": [
    {
     "name": "stdout",
     "output_type": "stream",
     "text": [
      "match found!, ind= 3268774\n"
     ]
    }
   ],
   "source": [
    "infile = open('test_sequence.txt','r')\n",
    "S = infile.read() #(long) gene sequence\n",
    "infile.close()\n",
    "P = 'TCGATCGGAAGT' #example pattern\n",
    "\n",
    "imatch=[] #list of match locations\n",
    "n,m=len(S),len(P)\n",
    "\n",
    "#Iterate through data\n",
    "for ind in range(0,n-m+1):\n",
    "    #if ind%100000==0: print(\"ind=\",ind)\n",
    "    match=True\n",
    "    for j in range(m): #character-by-character comparison\n",
    "        if P[j] != S[ind+j]:\n",
    "            match=False\n",
    "            break\n",
    "    if match:\n",
    "        print(\"match found!, ind=\",ind)\n",
    "        imatch.append(ind)\n",
    "            "
   ]
  },
  {
   "cell_type": "markdown",
   "metadata": {},
   "source": [
    "In Python, it is possible to directly compare strings. For example, given two strings, S1 and S2, we can simply check if S1==S2. We don't know (without doing a little research) the algorithm Python uses for this comparison or if it will be better than the approach used in our pattern search code."
   ]
  },
  {
   "cell_type": "markdown",
   "metadata": {},
   "source": [
    "1) How does the use of direct string comparison affect the speed of the pattern search code?"
   ]
  },
  {
   "cell_type": "code",
   "execution_count": 45,
   "metadata": {},
   "outputs": [
    {
     "name": "stdout",
     "output_type": "stream",
     "text": [
      "match found!, ind= 3268774\n",
      "dt1 =  8.80000615119934\n",
      "match found!, ind= 3268774\n",
      "dt2 =  3.32810640335083\n",
      "dt1/dt2 =  2.6441480784205846\n"
     ]
    }
   ],
   "source": [
    "from time import time\n",
    "\n",
    "def psearch1(S,P):\n",
    "    imatch=[] #list of match locations\n",
    "    n,m=len(S),len(P)\n",
    "\n",
    "    #Iterate through data\n",
    "    for ind in range(0,n-m+1):\n",
    "        match=True\n",
    "        for j in range(m): #character-by-character comparison\n",
    "            if P[j] != S[ind+j]:\n",
    "                match=False\n",
    "                break\n",
    "        if match:\n",
    "            print(\"match found!, ind=\",ind)\n",
    "            imatch.append(ind)\n",
    "    return imatch\n",
    "\n",
    "def psearch2(S,P):\n",
    "    imatch=[] #list of match locations\n",
    "    n,m=len(S),len(P)\n",
    "\n",
    "    #Iterate through data\n",
    "    for ind in range(0,n-m+1):\n",
    "        match=True\n",
    "        if P != S[ind:(ind+m)]:\n",
    "            match=False\n",
    "        if match:\n",
    "            print(\"match found!, ind=\",ind)\n",
    "            imatch.append(ind)\n",
    "    return imatch\n",
    "\n",
    "infile = open('test_sequence.txt','r')\n",
    "S = infile.read() #(long) gene sequence\n",
    "infile.close()\n",
    "P = 'TCGATCGGAAGT' #example pattern\n",
    "t1 = time()\n",
    "psearch1(S,P)\n",
    "t2 = time()\n",
    "dt1 = t2-t1\n",
    "print(\"dt1 = \",dt1)\n",
    "\n",
    "t1 = time()\n",
    "psearch2(S,P)\n",
    "t2 = time()\n",
    "dt2 = t2-t1\n",
    "print(\"dt2 = \",dt2)\n",
    "print(\"dt1/dt2 = \",dt1/dt2)"
   ]
  },
  {
   "cell_type": "markdown",
   "metadata": {},
   "source": [
    "Using string comparison makes the code a lot faster than character comparison. In fact, for the example P = TCGATCGGAAGT, using string comparison made the code approx. 3 times faster."
   ]
  },
  {
   "cell_type": "markdown",
   "metadata": {},
   "source": [
    "2) Use numerical tests to construct an estimate of the asymptotic running time of direct string comparison. How does it compare to character-by-character comparison?"
   ]
  },
  {
   "cell_type": "markdown",
   "metadata": {},
   "source": [
    "To do but CBA to do for now: know how to do it though"
   ]
  }
 ],
 "metadata": {
  "kernelspec": {
   "display_name": "Python 3",
   "language": "python",
   "name": "python3"
  },
  "language_info": {
   "codemirror_mode": {
    "name": "ipython",
    "version": 3
   },
   "file_extension": ".py",
   "mimetype": "text/x-python",
   "name": "python",
   "nbconvert_exporter": "python",
   "pygments_lexer": "ipython3",
   "version": "3.7.2"
  }
 },
 "nbformat": 4,
 "nbformat_minor": 1
}
