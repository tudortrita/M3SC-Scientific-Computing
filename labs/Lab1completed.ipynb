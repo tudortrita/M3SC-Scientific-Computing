{
 "cells": [
  {
   "cell_type": "markdown",
   "metadata": {},
   "source": [
    "## M345SC Lab 1"
   ]
  },
  {
   "cell_type": "markdown",
   "metadata": {},
   "source": [
    "#### Task 1: Python functions and recursion"
   ]
  },
  {
   "cell_type": "markdown",
   "metadata": {},
   "source": [
    "Python functions are a useful way to organize complicated pieces of code. Recall, the basic idea underlying functions is to provide input and for the function to return something back to the user:"
   ]
  },
  {
   "cell_type": "code",
   "execution_count": 1,
   "metadata": {},
   "outputs": [],
   "source": [
    "\"\"\"To run a cell, go to the Cell menu above or press \"shift\"+\"return\"\n",
    "\"\"\"\n",
    "def sum3(x,y,z):\n",
    "    return x + y + z"
   ]
  },
  {
   "cell_type": "code",
   "execution_count": 3,
   "metadata": {},
   "outputs": [
    {
     "data": {
      "text/plain": [
       "6"
      ]
     },
     "execution_count": 3,
     "metadata": {},
     "output_type": "execute_result"
    }
   ],
   "source": [
    "#Run cell above and call function\n",
    "sum3(1,2,3)"
   ]
  },
  {
   "cell_type": "markdown",
   "metadata": {},
   "source": [
    "A function is not required to return anything, and further details on their usage can be found in the tutorial here: http://bitbucket.org/m345sc/sc2019/raw/master/python/python5.ipynb\n",
    "In this lab, we will focus on *recursive* functions. Often, a function takes on an iterative or recurrent form, $F(x_n) = G(F(x_{n-1}), F(x_{n-2}),...$)). Consider, for example, the Fibonacci sequence where $F_n = F_{n-1} + F_{n-2}$. Many problems of this form can be tackled using *recursion* where a function calls itself with appropriately modified input. For the Fibonacci sequence, we have:"
   ]
  },
  {
   "cell_type": "code",
   "execution_count": 5,
   "metadata": {},
   "outputs": [],
   "source": [
    "def fib(n):\n",
    "    \"\"\"Find nth term in Fibonacci sequence start from 0,1\n",
    "    \"\"\"\n",
    "    if n==1:\n",
    "        return 0\n",
    "    elif n==2:\n",
    "        return 1\n",
    "    else:\n",
    "        return fib(n-2) + fib(n-1)"
   ]
  },
  {
   "cell_type": "markdown",
   "metadata": {},
   "source": [
    "Run the function above with a few different values of n and verify that it works correctly. Add a print statement to the function so you can check the order in which fib is called with different values for input. "
   ]
  },
  {
   "cell_type": "code",
   "execution_count": 16,
   "metadata": {},
   "outputs": [
    {
     "data": {
      "text/plain": [
       "1346269"
      ]
     },
     "execution_count": 16,
     "metadata": {},
     "output_type": "execute_result"
    }
   ],
   "source": [
    "fib(32)"
   ]
  },
  {
   "cell_type": "markdown",
   "metadata": {},
   "source": [
    "For $n>2$, *fib* generates a *call stack* -- a stack of calls to itself -- the topmost call will correspond to $n=2$ after which it returns 1 to the call below it and this topmost call is then removed from the stack. Note that recursive functions require one or more base cases to ensure that they don't keep calling themselves indefinitely (what are the base cases in *fib*?).\n",
    "\n",
    "Recursion can also be used to develop a function to compute n!\n",
    "Complete the function for the factorial below:"
   ]
  },
  {
   "cell_type": "code",
   "execution_count": 21,
   "metadata": {},
   "outputs": [],
   "source": [
    "def factorial(n):\n",
    "    \"\"\"\n",
    "    Compute and return n!\n",
    "    \"\"\"\n",
    "    #Add code here\n",
    "    if n==0:\n",
    "        return 1\n",
    "    elif n==1:\n",
    "        return 1\n",
    "    else:\n",
    "        return n*factorial(n-1)"
   ]
  },
  {
   "cell_type": "code",
   "execution_count": 28,
   "metadata": {},
   "outputs": [
    {
     "data": {
      "text/plain": [
       "120"
      ]
     },
     "execution_count": 28,
     "metadata": {},
     "output_type": "execute_result"
    }
   ],
   "source": [
    "factorial(5)"
   ]
  },
  {
   "cell_type": "markdown",
   "metadata": {},
   "source": [
    "#### Task 2: Recursive binary search"
   ]
  },
  {
   "cell_type": "markdown",
   "metadata": {},
   "source": [
    "In lecture we developed an iterative approach to binary search:"
   ]
  },
  {
   "cell_type": "code",
   "execution_count": 35,
   "metadata": {},
   "outputs": [],
   "source": [
    "import numpy as np\n",
    "def bsearch(L, x):\n",
    "\n",
    "    #Set initial start and end indices for full list\n",
    "    istart = 0\n",
    "    iend = len(L)-1\n",
    "\n",
    "    #Iterate and contract \"active\" portion of list\n",
    "    while istart<=iend:\n",
    "\n",
    "        imid = int(0.5*(istart+iend))\n",
    "\n",
    "        if x==L[imid]:\n",
    "            return imid\n",
    "        elif x < L[imid]:\n",
    "            iend = imid-1\n",
    "        else:\n",
    "            istart = imid+1\n",
    "\n",
    "    return -1000"
   ]
  },
  {
   "cell_type": "markdown",
   "metadata": {},
   "source": [
    "1) Run the cell above, and then add python code to the cell below to test the function using the provided array, L"
   ]
  },
  {
   "cell_type": "code",
   "execution_count": 56,
   "metadata": {
    "scrolled": true
   },
   "outputs": [
    {
     "name": "stdout",
     "output_type": "stream",
     "text": [
      "L= [1 4 5 5 6 8 8 9]\n",
      "target= 6\n",
      "index= 4\n",
      "L[ix]= 6\n"
     ]
    }
   ],
   "source": [
    "L = np.sort(np.random.randint(1,12,8))\n",
    "x = np.random.randint(1,12)\n",
    "#Add call to bsearch here and set ix approriately\n",
    "ix = bsearch(L, x)\n",
    "\n",
    "print(\"L=\",L)\n",
    "print(\"target=\",x)\n",
    "print(\"index=\",ix)\n",
    "if ix>-1:\n",
    "    print(\"L[ix]=\",L[ix])\n",
    "    "
   ]
  },
  {
   "cell_type": "markdown",
   "metadata": {},
   "source": [
    "2) Now, you should develop a *recursive* version of bsearch in the cell below"
   ]
  },
  {
   "cell_type": "code",
   "execution_count": 71,
   "metadata": {},
   "outputs": [],
   "source": [
    "import numpy as np\n",
    "def bsearch2(L,x,istart=0,iend=-1000):\n",
    "    \n",
    "    #Set initial start and end indices for full list if iend=-1000\n",
    "    if iend==-1000: iend = len(L)-1\n",
    "    imid = int(0.5*(istart+iend))\n",
    "    \n",
    "    #Check if search has \"converged\", otherwise search in appropriate \"half\" of data\n",
    "    if istart>iend: return -1000\n",
    "    \n",
    "    #Add code below for:\n",
    "    # 1) comparison between x and L[imid] and 2) 2 recursive calls\n",
    "    if x==L[imid]:\n",
    "        return imid\n",
    "    elif x < L[imid]:\n",
    "        iend = imid - 1\n",
    "        imid = bsearch2(L, x, istart, iend)\n",
    "        return imid\n",
    "    else:\n",
    "        istart = imid + 1\n",
    "        imid = bsearch2(L, x, istart, iend)\n",
    "        return imid"
   ]
  },
  {
   "cell_type": "markdown",
   "metadata": {},
   "source": [
    "3) As before, run the cell above, and then add python code to the cell below to test the function using the provided array, L"
   ]
  },
  {
   "cell_type": "code",
   "execution_count": 80,
   "metadata": {},
   "outputs": [
    {
     "name": "stdout",
     "output_type": "stream",
     "text": [
      "L= [ 3  4  6  7  8  8  9 10]\n",
      "target= 3\n",
      "index= 0\n",
      "L[ix]= 3\n"
     ]
    }
   ],
   "source": [
    "L = np.sort(np.random.randint(1,12,8))\n",
    "x = np.random.randint(1,12)\n",
    "#Add call to bsearch2\n",
    "ix = bsearch2(L,x)\n",
    "print(\"L=\",L)\n",
    "print(\"target=\",x)\n",
    "print(\"index=\",ix)\n",
    "if ix>-1:\n",
    "    print(\"L[ix]=\",L[ix])"
   ]
  },
  {
   "cell_type": "markdown",
   "metadata": {},
   "source": [
    "#### Task 3: Getting started with bitbucket and git\n",
    "If you are already familiar with git/bitbucket, fork the course repo, clone your fork, and move on to the next task"
   ]
  },
  {
   "cell_type": "markdown",
   "metadata": {},
   "source": [
    "1) Go to https://bitbucket.org/account/signup/ and create a personal bitbucket account (if you don't have one already). "
   ]
  },
  {
   "cell_type": "markdown",
   "metadata": {},
   "source": [
    "2) After logging in to your Bitbucket account, go to the course repo: https://bitbucket.org/m345sc/sc2019"
   ]
  },
  {
   "cell_type": "markdown",
   "metadata": {},
   "source": [
    "3) Click on the “+” on the left of the screen and “Fork this repository”"
   ]
  },
  {
   "cell_type": "markdown",
   "metadata": {},
   "source": [
    "This fork is your personal copy of the course repository. Compare your fork's url with the url of the course repo. There should be a \"hidden\" column on the right side of your fork's bitbucket page. Within this column, there will be an option to *sync* your fork with the course repo after it has been updated."
   ]
  },
  {
   "cell_type": "markdown",
   "metadata": {},
   "source": [
    "4) Near the top of your bitbucket fork, there should be a button for *cloning* your fork. Click this button, and copy the displayed command. It should be something like: *git clone https://username@bitbucket.org/m345sc/sc2019.git*"
   ]
  },
  {
   "cell_type": "markdown",
   "metadata": {},
   "source": [
    "5) Now you will create a local copy of your fork. There are a few different possible approaches:"
   ]
  },
  {
   "cell_type": "markdown",
   "metadata": {},
   "source": [
    "i. If you are using a mac or linux and are comfortable with unix, open a terminal and paste the git clone command. This should create a folder named *sc2019*. In the future, after *syncing* your fork, running *git pull* from within this folder will sync your local copy with your online fork."
   ]
  },
  {
   "cell_type": "markdown",
   "metadata": {},
   "source": [
    "ii. If you are using a mac, you can also download and install *sourcetree* from bitbucket: sourcetreeapp.com\n",
    "You will be able to clone your fork from within this app using your fork's url."
   ]
  },
  {
   "cell_type": "markdown",
   "metadata": {},
   "source": [
    "iii. If you are using windows in the MLC, open file explorer (folder icon near bottom of screen) and create a new folder -- the repo will be placed within this folder. Right-click on the folder and select git clone, paste in your fork's url and select \"OK\". This should create a new folder named *sc2019*. Right-click on this folder. There should an option to \"sync\" your repo. In the future, after syncing your fork, using this option will sync your local copy with your online fork. "
   ]
  },
  {
   "cell_type": "markdown",
   "metadata": {},
   "source": [
    "iv. If you are using your own windows machine, you will need to install git. One option is here: https://gitforwindows.org/\n",
    "You should be able to clone your fork using your fork's url after installation."
   ]
  },
  {
   "cell_type": "markdown",
   "metadata": {},
   "source": [
    "Don't worry if you are new to git and have trouble getting something above to work. You can always directly download the class repo from: https://bitbucket.org/m345sc/sc2019/downloads/\n",
    "or simply use the links provided on the class webpage."
   ]
  }
 ],
 "metadata": {
  "kernelspec": {
   "display_name": "Python 3",
   "language": "python",
   "name": "python3"
  },
  "language_info": {
   "codemirror_mode": {
    "name": "ipython",
    "version": 3
   },
   "file_extension": ".py",
   "mimetype": "text/x-python",
   "name": "python",
   "nbconvert_exporter": "python",
   "pygments_lexer": "ipython3",
   "version": "3.7.1"
  }
 },
 "nbformat": 4,
 "nbformat_minor": 2
}
