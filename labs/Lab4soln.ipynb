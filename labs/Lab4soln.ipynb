{
 "cells": [
  {
   "cell_type": "markdown",
   "metadata": {},
   "source": [
    "## M345SC 2019 Lab 4 Solution"
   ]
  },
  {
   "cell_type": "markdown",
   "metadata": {},
   "source": [
    "### Task 1: Shortest paths from BFS"
   ]
  },
  {
   "cell_type": "markdown",
   "metadata": {},
   "source": [
    "The BFS code developed in lecture finds all reachable nodes from a source and computes the distance of the shortest path from the source to each reachable node:"
   ]
  },
  {
   "cell_type": "code",
   "execution_count": 37,
   "metadata": {
    "collapsed": true
   },
   "outputs": [],
   "source": [
    "import networkx as nx\n",
    "\n",
    "def bfs(G,s):\n",
    "    \"\"\"\n",
    "    Input:\n",
    "    G: networkx graph\n",
    "    x: source node\n",
    "\n",
    "    Output:\n",
    "    L2: Labels for all nodes in graph, 0=unreachable from source, 1=reachable\n",
    "    L3: Shortest distance from source to nodes in graph\n",
    "    \"\"\"\n",
    "\n",
    "    L1 = list(G.nodes) #Assumes nodes are numbered from 0 to N-1\n",
    "    L2 = [0 for l in L1] #Labels\n",
    "    L3 = [-1000 for l in L1] #Distances\n",
    "    \n",
    "    Q=[]\n",
    "    Q.append(s)\n",
    "    L2[s]=1\n",
    "    L3[s]=0\n",
    "    while len(Q)>0:\n",
    "        x = Q.pop(0) #remove node from front of queue\n",
    "        print(\"***x=\",x,' ***')\n",
    "        for v in G.adj[x].keys():\n",
    "            if L2[v]==0:\n",
    "                Q.append(v) #add unexplored neighbors to back of queue\n",
    "                L2[v]=1\n",
    "                L3[v]=1+L3[x]\n",
    "            print(\"Q=\",Q)\n",
    "    return L2,L3"
   ]
  },
  {
   "cell_type": "markdown",
   "metadata": {},
   "source": [
    "1. Modify the function above so that it returns a list, *L4*, whose *i+1th* element, *L4[i]* contains a list of nodes for the shortest path between the source and node *i*. For example, L4=[[0],[0,2,3,1],[0,2],[0,3]] would indicate that the shortes path between nodes 0 and 1 is 0->2->3->1. "
   ]
  },
  {
   "cell_type": "code",
   "execution_count": 38,
   "metadata": {
    "collapsed": true
   },
   "outputs": [],
   "source": [
    "#New function here\n",
    "import networkx as nx\n",
    "\n",
    "def bfs(G,s):\n",
    "    \"\"\"\n",
    "    Input:\n",
    "    G: networkx graph\n",
    "    x: source node\n",
    "\n",
    "    Output:\n",
    "    L2: Labels for all nodes in graph, 0=unreachable from source, 1=reachable\n",
    "    L3: Shortest distance from source to nodes in graph\n",
    "    \"\"\"\n",
    "\n",
    "    L1 = list(G.nodes) #Assumes nodes are numbered from 0 to N-1\n",
    "    L2 = [0 for l in L1] #Labels\n",
    "    L3 = [-1000 for l in L1] #Distances\n",
    "    L4 = [[] for l in L1] #paths\n",
    "    \n",
    "    Q=[]\n",
    "    Q.append(s)\n",
    "    L2[s]=1\n",
    "    L3[s]=0\n",
    "    L4[s]=[s]\n",
    "    while len(Q)>0:\n",
    "        x = Q.pop(0) #remove node from front of queue\n",
    "        print(\"***x=\",x,' ***')\n",
    "        for v in G.adj[x].keys():\n",
    "            if L2[v]==0:\n",
    "                Q.append(v) #add unexplored neighbors to back of queue\n",
    "                L2[v]=1\n",
    "                L3[v]=1+L3[x]\n",
    "                L4[v].extend(L4[x]) #Add path to node x and node v to path\n",
    "                L4[v].append(v)     #for node v\n",
    "            print(\"v=\",v)\n",
    "            print(\"Q=\",Q)\n",
    "    return L2,L3,L4"
   ]
  },
  {
   "cell_type": "markdown",
   "metadata": {},
   "source": [
    "2. Test your function with a modestly-sized Barabasi-Albert graph and verify that it computes shortest-paths correctly:"
   ]
  },
  {
   "cell_type": "code",
   "execution_count": 35,
   "metadata": {},
   "outputs": [
    {
     "name": "stdout",
     "output_type": "stream",
     "text": [
      "Populating the interactive namespace from numpy and matplotlib\n",
      "***x= 0  ***\n",
      "v= 3\n",
      "Q= [3]\n",
      "v= 4\n",
      "Q= [3, 4]\n",
      "v= 7\n",
      "Q= [3, 4, 7]\n",
      "***x= 3  ***\n",
      "v= 0\n",
      "Q= [4, 7]\n",
      "v= 1\n",
      "Q= [4, 7, 1]\n",
      "v= 2\n",
      "Q= [4, 7, 1, 2]\n",
      "v= 4\n",
      "Q= [4, 7, 1, 2]\n",
      "v= 5\n",
      "Q= [4, 7, 1, 2, 5]\n",
      "v= 6\n",
      "Q= [4, 7, 1, 2, 5, 6]\n",
      "v= 9\n",
      "Q= [4, 7, 1, 2, 5, 6, 9]\n",
      "***x= 4  ***\n",
      "v= 0\n",
      "Q= [7, 1, 2, 5, 6, 9]\n",
      "v= 2\n",
      "Q= [7, 1, 2, 5, 6, 9]\n",
      "v= 3\n",
      "Q= [7, 1, 2, 5, 6, 9]\n",
      "v= 5\n",
      "Q= [7, 1, 2, 5, 6, 9]\n",
      "v= 6\n",
      "Q= [7, 1, 2, 5, 6, 9]\n",
      "v= 7\n",
      "Q= [7, 1, 2, 5, 6, 9]\n",
      "v= 8\n",
      "Q= [7, 1, 2, 5, 6, 9, 8]\n",
      "***x= 7  ***\n",
      "v= 0\n",
      "Q= [1, 2, 5, 6, 9, 8]\n",
      "v= 2\n",
      "Q= [1, 2, 5, 6, 9, 8]\n",
      "v= 4\n",
      "Q= [1, 2, 5, 6, 9, 8]\n",
      "***x= 1  ***\n",
      "v= 3\n",
      "Q= [2, 5, 6, 9, 8]\n",
      "***x= 2  ***\n",
      "v= 3\n",
      "Q= [5, 6, 9, 8]\n",
      "v= 4\n",
      "Q= [5, 6, 9, 8]\n",
      "v= 5\n",
      "Q= [5, 6, 9, 8]\n",
      "v= 6\n",
      "Q= [5, 6, 9, 8]\n",
      "v= 7\n",
      "Q= [5, 6, 9, 8]\n",
      "v= 8\n",
      "Q= [5, 6, 9, 8]\n",
      "***x= 5  ***\n",
      "v= 2\n",
      "Q= [6, 9, 8]\n",
      "v= 3\n",
      "Q= [6, 9, 8]\n",
      "v= 4\n",
      "Q= [6, 9, 8]\n",
      "v= 9\n",
      "Q= [6, 9, 8]\n",
      "***x= 6  ***\n",
      "v= 2\n",
      "Q= [9, 8]\n",
      "v= 3\n",
      "Q= [9, 8]\n",
      "v= 4\n",
      "Q= [9, 8]\n",
      "v= 8\n",
      "Q= [9, 8]\n",
      "v= 9\n",
      "Q= [9, 8]\n",
      "***x= 9  ***\n",
      "v= 3\n",
      "Q= [8]\n",
      "v= 5\n",
      "Q= [8]\n",
      "v= 6\n",
      "Q= [8]\n",
      "***x= 8  ***\n",
      "v= 2\n",
      "Q= []\n",
      "v= 4\n",
      "Q= []\n",
      "v= 6\n",
      "Q= []\n"
     ]
    },
    {
     "data": {
      "image/png": "[encoded data removed]",
      "text/plain": [
       "<matplotlib.figure.Figure at 0x1525238198>"
      ]
     },
     "metadata": {},
     "output_type": "display_data"
    }
   ],
   "source": [
    "#Add code here\n",
    "%pylab inline\n",
    "G = nx.barabasi_albert_graph(10,3)\n",
    "nx.draw(G,with_labels=True)\n",
    "L2,L3,L4 = bfs(G,0)\n",
    "print(\"L4=\",L4)"
   ]
  },
  {
   "cell_type": "code",
   "execution_count": 36,
   "metadata": {},
   "outputs": [
    {
     "data": {
      "text/plain": [
       "[[0],\n",
       " [0, 3, 1],\n",
       " [0, 3, 2],\n",
       " [0, 3],\n",
       " [0, 4],\n",
       " [0, 3, 5],\n",
       " [0, 3, 6],\n",
       " [0, 7],\n",
       " [0, 4, 8],\n",
       " [0, 3, 9]]"
      ]
     },
     "execution_count": 36,
     "metadata": {},
     "output_type": "execute_result"
    }
   ],
   "source": [
    "L4"
   ]
  },
  {
   "cell_type": "markdown",
   "metadata": {},
   "source": [
    "### Task 2: Code performance and memory"
   ]
  },
  {
   "cell_type": "markdown",
   "metadata": {},
   "source": [
    "As you move to larger problems, memory usage becomes an increasingly important consideration when developing and analyzing codes. Generally, we wish to use as little memory as possible, but there are more subtle issues that can pop up as well.\n",
    "Consider simple calculations with matrices. 2-D Numpy arrays store elements in *row-major* order which can influence the performance of seemingly similar operations with numpy arrays. Row-major order means that elements (i,j) and (i,j+1) are typically stored in adjacent locations in memory."
   ]
  },
  {
   "cell_type": "markdown",
   "metadata": {},
   "source": [
    "1) Construct a large *n x n* random matrix and: i) iterate across the rows of the matrix computing the standard deviation of each column and ii) iterate across the columns of the matrix computing the standard deviation of each row. Compare the walltime required by the two cases for a few different values of *n*. Is one case noticeably faster for large *n*?"
   ]
  },
  {
   "cell_type": "code",
   "execution_count": 3,
   "metadata": {},
   "outputs": [
    {
     "name": "stdout",
     "output_type": "stream",
     "text": [
      "n= 8000 dt0= 5.5826356410980225 dt1= 0.5229508876800537 dt1/dt0= 0.09367455110812085\n"
     ]
    }
   ],
   "source": [
    "import numpy as np\n",
    "from time import time\n",
    "nlist=[8000]\n",
    "a=0\n",
    "for n in nlist:\n",
    "    \n",
    "    #Iterate across rows\n",
    "    A = np.random.rand(n,n)\n",
    "    t1 = time()\n",
    "    \n",
    "    for i in range(n):\n",
    "        x = np.std(A[:,i])\n",
    "  \n",
    "    t2 = time()\n",
    "    dt0 = t2-t1\n",
    "\n",
    "    #Iterate across columns\n",
    "    A = np.random.rand(n,n)\n",
    "    t1 = time()\n",
    "\n",
    "    for i in range(n):\n",
    "        x = np.std(A[i,:])\n",
    "        \n",
    "    t2 = time()\n",
    "    dt1 = t2-t1\n",
    "    print(\"n=\",n,'dt0=',dt0,'dt1=',dt1,'dt1/dt0=',dt1/dt0) \n",
    "    \n",
    "    "
   ]
  },
  {
   "cell_type": "markdown",
   "metadata": {},
   "source": [
    "**Ans:** Iterating across rows (dt1) should be much faster for large n"
   ]
  },
  {
   "cell_type": "markdown",
   "metadata": {},
   "source": [
    "2) Now, repeat the calculations above, but replace the loops across rows or columns with the built-in method for computing standard deviations with numpy arrays. Do the timing results change?"
   ]
  },
  {
   "cell_type": "code",
   "execution_count": 4,
   "metadata": {},
   "outputs": [
    {
     "name": "stdout",
     "output_type": "stream",
     "text": [
      "n= 8000 dt0= 0.6117470264434814 dt1= 0.515902042388916 ratio= 0.8433257867851354\n"
     ]
    }
   ],
   "source": [
    "import numpy as np\n",
    "from time import time\n",
    "nlist=[8000]\n",
    "a=0\n",
    "for n in nlist:\n",
    "    A = np.random.rand(n,n)\n",
    "    t1 = time()\n",
    "    x = np.std(A,axis=0)  #mean of each column\n",
    "    t2 = time()\n",
    "    dt0 = t2-t1\n",
    "    A = np.random.rand(n,n) \n",
    "    t1 = time()\n",
    "    x = np.std(A,axis=1)  #mean of each row\n",
    "    t2 = time()\n",
    "    dt1 = t2-t1\n",
    "    print(\"n=\",n,'dt0=',dt0,'dt1=',dt1,'ratio=',dt1/dt0) \n",
    "    #Answer: dt0 should be pretty close to dt0 for even large n\n",
    "    #and should be similar to dt1 in the previous example\n",
    "    "
   ]
  },
  {
   "cell_type": "markdown",
   "metadata": {},
   "source": [
    "**Ans:** The time difference seems to go away when the built-in method is used. dt0 should be pretty close to dt1 for even large n and should be similar to dt1 in 1)."
   ]
  }
 ],
 "metadata": {
  "kernelspec": {
   "display_name": "Python 3",
   "language": "python",
   "name": "python3"
  },
  "language_info": {
   "codemirror_mode": {
    "name": "ipython",
    "version": 3
   },
   "file_extension": ".py",
   "mimetype": "text/x-python",
   "name": "python",
   "nbconvert_exporter": "python",
   "pygments_lexer": "ipython3",
   "version": "3.6.7"
  }
 },
 "nbformat": 4,
 "nbformat_minor": 1
}
