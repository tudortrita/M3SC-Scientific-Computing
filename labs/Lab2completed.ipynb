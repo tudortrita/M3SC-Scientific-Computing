{
 "cells": [
  {
   "cell_type": "markdown",
   "metadata": {},
   "source": [
    "## M345SC Lab 2"
   ]
  },
  {
   "cell_type": "markdown",
   "metadata": {},
   "source": [
    "The course bitbucket repo has been updated a few times in the last week. Ensure that you can sync your online fork of the repo. If/when using git on MLC machines, you should first launch *tortoise git* from the software hub, and then you will be provided with git options when right-clicking on a file or folder"
   ]
  },
  {
   "cell_type": "markdown",
   "metadata": {},
   "source": [
    "#### Task 1: Timing code"
   ]
  },
  {
   "cell_type": "markdown",
   "metadata": {},
   "source": [
    "There are a few different approaches for timing code in Python.\n",
    "You can use the *time* function in the time module as below:"
   ]
  },
  {
   "cell_type": "code",
   "execution_count": 1,
   "metadata": {},
   "outputs": [
    {
     "name": "stdout",
     "output_type": "stream",
     "text": [
      "dt =  0.02901172637939453\n"
     ]
    }
   ],
   "source": [
    "import numpy as np\n",
    "import time\n",
    "X = list(np.random.randint(1,1000,800)) #uncomment and use if/as needed\n",
    "t1 = time.time()\n",
    "y = np.sin(np.outer(X,X))\n",
    "t2 = time.time()\n",
    "print(\"dt = \",t2-t1)"
   ]
  },
  {
   "cell_type": "markdown",
   "metadata": {},
   "source": [
    "And you can also use the timeit function:"
   ]
  },
  {
   "cell_type": "code",
   "execution_count": 2,
   "metadata": {},
   "outputs": [
    {
     "name": "stdout",
     "output_type": "stream",
     "text": [
      "28.1 ms ± 515 µs per loop (mean ± std. dev. of 7 runs, 10 loops each)\n"
     ]
    }
   ],
   "source": [
    "timeit np.sin(np.outer(X,X))"
   ]
  },
  {
   "cell_type": "markdown",
   "metadata": {},
   "source": [
    "You will now investigate how the runing time for sorting algorithms depends on the list length. Functions for merge and insertion sorts are below."
   ]
  },
  {
   "cell_type": "code",
   "execution_count": 3,
   "metadata": {
    "scrolled": true
   },
   "outputs": [],
   "source": [
    "def isort(X):\n",
    "    \"\"\"Sort X using insertion sort algorithm and return sorted array\n",
    "    \"\"\"\n",
    "\n",
    "    S = X.copy()\n",
    "\n",
    "    for i,x in enumerate(X[1:],1):\n",
    "        #place x appropriately in partially sorted array, S\n",
    "        for j in range(i-1,-1,-1):\n",
    "            if S[j+1]<S[j]:\n",
    "                S[j],S[j+1] = S[j+1],S[j]\n",
    "            else:\n",
    "                break\n",
    "    return S\n",
    "\n",
    "def merge(L,R):\n",
    "    \"\"\"Merge 2 sorted lists provided as input\n",
    "    into a single sorted list\n",
    "    \"\"\"\n",
    "    M = [] #Merged list, initially empty\n",
    "    indL,indR = 0,0 #start indices\n",
    "    nL,nR = len(L),len(R)\n",
    "\n",
    "    #Add one element to M per iteration until an entire sublist\n",
    "    #has been added\n",
    "    for i in range(nL+nR):\n",
    "        if L[indL]<R[indR]:\n",
    "            M.append(L[indL])\n",
    "            indL = indL + 1\n",
    "            if indL>=nL:\n",
    "                M.extend(R[indR:])\n",
    "                break\n",
    "        else:\n",
    "            M.append(R[indR])\n",
    "            indR = indR + 1\n",
    "            if indR>=nR:\n",
    "                M.extend(L[indL:])\n",
    "                break\n",
    "    return M\n",
    "\n",
    "def mergesort(X):\n",
    "    \"\"\"Given a unsorted list, sort list using\n",
    "    merge sort algorithm and return sorted list\n",
    "    \"\"\"\n",
    "\n",
    "    n = len(X)\n",
    "\n",
    "    if n==1:\n",
    "        return X\n",
    "    else:\n",
    "        L = mergesort(X[:n//2])\n",
    "        R = mergesort(X[n//2:])\n",
    "        return merge(L,R)"
   ]
  },
  {
   "cell_type": "markdown",
   "metadata": {},
   "source": [
    "1) How much does the run-time for insertion sort increase when the length of the initial, unsorted list is doubled? What do you expect?"
   ]
  },
  {
   "cell_type": "code",
   "execution_count": 103,
   "metadata": {},
   "outputs": [
    {
     "name": "stdout",
     "output_type": "stream",
     "text": [
      "dt1 =  0.6953189373016357\n",
      "dt2 =  2.619417905807495\n"
     ]
    }
   ],
   "source": [
    "N = 2**11\n",
    "X = list(np.random.randint(1,2*N,N))\n",
    "t1 = time.time()\n",
    "isort(X)\n",
    "t2 = time.time()\n",
    "N = N * 2\n",
    "X = list(np.random.randint(1,2*N,N))\n",
    "t3 = time.time()\n",
    "isort(X)\n",
    "t4 = time.time()\n",
    "print(\"dt1 = \",t2-t1)\n",
    "print(\"dt2 = \",t4-t3)"
   ]
  },
  {
   "cell_type": "markdown",
   "metadata": {},
   "source": [
    "2) Now carry out the analagous analysis for mergesort."
   ]
  },
  {
   "cell_type": "code",
   "execution_count": 116,
   "metadata": {},
   "outputs": [
    {
     "name": "stdout",
     "output_type": "stream",
     "text": [
      "dt1 =  0.007872343063354492\n",
      "dt2 =  0.0327601432800293\n"
     ]
    }
   ],
   "source": [
    "N = 2**11\n",
    "X = list(np.random.randint(1,2*N,N))\n",
    "t1 = time.time()\n",
    "mergesort(X)\n",
    "t2 = time.time()\n",
    "N = N * 2\n",
    "X = list(np.random.randint(1,2*N,N))\n",
    "t3 = time.time()\n",
    "mergesort(X)\n",
    "t4 = time.time()\n",
    "print(\"dt1 = \",t2-t1)\n",
    "print(\"dt2 = \",t4-t3)"
   ]
  },
  {
   "cell_type": "markdown",
   "metadata": {},
   "source": [
    "3) Consider one *level* of mergesort where *m* sorted lists of length *p* are merged into *m/2* lists of length *2p* (assume that *m* is even), and we have $N = mp$. In lecture, the running time for one level was stated to be $O(N)$. This indicates the number of required operations is: $cN + f(N)$ with $lim_{n\\rightarrow \\infty} f/N = 0$ and $c$ a constant independent of N. Construct an (useful) upper bound for $c$. Does this bound depend on *m* or *p*?"
   ]
  },
  {
   "cell_type": "markdown",
   "metadata": {},
   "source": [
    "#### Answer\n",
    "\n",
    "m sorted lists of length p so total length will be mp\n",
    "\n",
    "merge into m/2 lists of length 2p so total length will be mp\n",
    "\n",
    "Total length mp = N\n",
    "\n",
    "TO DO"
   ]
  },
  {
   "cell_type": "markdown",
   "metadata": {},
   "source": [
    "####  Task 2: Setting up a word count\n",
    "In this task, you will place the words from a text file into a Python dictionary so that word counts for specified words can be quickly extracted. The line below will read in the file (if the notebook and the text file, *words.txt*, are in the same directory)."
   ]
  },
  {
   "cell_type": "code",
   "execution_count": 28,
   "metadata": {},
   "outputs": [
    {
     "name": "stdout",
     "output_type": "stream",
     "text": [
      "['sing', 'michael', 'sing', 'on']\n"
     ]
    }
   ],
   "source": [
    "infile = open('words.txt','r')\n",
    "A = infile.read()\n",
    "#Remove punctuation\n",
    "A = A.replace(',','')\n",
    "A = A.replace('?','')\n",
    "A = A.replace('.','')\n",
    "A = A.replace('!','')\n",
    "A = A.lower() #Convert to all lowercase\n",
    "words = A.split() #List (mostly) containing the words in the file\n",
    "print(words[:4])\n",
    "infile.close()"
   ]
  },
  {
   "cell_type": "markdown",
   "metadata": {},
   "source": [
    "1) Fill the dictionary below so that each word in *words* is stored as a key and the corresponding value is the number of times the word appears in the list. If you are unfamiliar with dictionaries in Python, have a look at the online tutorial: https://docs.python.org/3/tutorial/datastructures.html#dictionaries"
   ]
  },
  {
   "cell_type": "code",
   "execution_count": 102,
   "metadata": {
    "scrolled": true
   },
   "outputs": [],
   "source": [
    "D = {} #Initializes empty dictionary\n",
    "#Add code below\n",
    "wordsorted = mergesort(words)\n",
    "ln = len(wordsorted)\n",
    "value = 1\n",
    "for i in range(1,ln-1):\n",
    "    if wordsorted[i] == wordsorted[i-1]:\n",
    "        value += 1\n",
    "    else:\n",
    "        D[wordsorted[i-1]] = value\n",
    "        value = 1"
   ]
  },
  {
   "cell_type": "markdown",
   "metadata": {},
   "source": [
    "2) Using your dictionary, look up how many times does the word \"fail\" appears in the file? (you can check your result by applying the *count* method on *words*)"
   ]
  },
  {
   "cell_type": "code",
   "execution_count": 121,
   "metadata": {},
   "outputs": [
    {
     "name": "stdout",
     "output_type": "stream",
     "text": [
      "92.8 ns ± 0.715 ns per loop (mean ± std. dev. of 7 runs, 10000000 loops each)\n"
     ]
    }
   ],
   "source": [
    "timeit D['fail']"
   ]
  },
  {
   "cell_type": "markdown",
   "metadata": {},
   "source": [
    "3) In general (i.e. not specifically for this file) what are the running times for a) creating the dictionary and b) looking up a word count in the dictionary?"
   ]
  },
  {
   "cell_type": "markdown",
   "metadata": {},
   "source": [
    "#### Answer\n",
    "The running times for creating a dictionary are: 72.9 ns ± 0.796 ns per loop\n",
    "\n",
    "The running times to look up a word count in the dictionary: 92.8ns ± 0.715 ns per loop"
   ]
  }
 ],
 "metadata": {
  "kernelspec": {
   "display_name": "Python 3",
   "language": "python",
   "name": "python3"
  },
  "language_info": {
   "codemirror_mode": {
    "name": "ipython",
    "version": 3
   },
   "file_extension": ".py",
   "mimetype": "text/x-python",
   "name": "python",
   "nbconvert_exporter": "python",
   "pygments_lexer": "ipython3",
   "version": "3.7.1"
  }
 },
 "nbformat": 4,
 "nbformat_minor": 2
}
