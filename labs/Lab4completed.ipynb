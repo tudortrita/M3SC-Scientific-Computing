{
 "cells": [
  {
   "cell_type": "markdown",
   "metadata": {},
   "source": [
    "## M345SC 2019 Lab 4"
   ]
  },
  {
   "cell_type": "markdown",
   "metadata": {},
   "source": [
    "### Task 1: Shortest paths from BFS"
   ]
  },
  {
   "cell_type": "markdown",
   "metadata": {},
   "source": [
    "The BFS code developed in lecture finds all reachable nodes from a source and computes the distance of the shortest path from the source to each reachable node:"
   ]
  },
  {
   "cell_type": "markdown",
   "metadata": {},
   "source": [
    "1. Modify the function so that it returns a list, *L4*, whose *i+1th* element, *L4[i]* contains a list of nodes for the shortest path between the source and node *i*. For example, L4=[[0],[0,2,3,1],[0,2],[0,3]] would indicate that the shortes path between nodes 0 and 1 is 0->2->3->1. "
   ]
  },
  {
   "cell_type": "code",
   "execution_count": 19,
   "metadata": {},
   "outputs": [
    {
     "name": "stdout",
     "output_type": "stream",
     "text": [
      "***x= 0  ***\n",
      "v= 1\n",
      "Q= [1]\n",
      "v= 3\n",
      "Q= [1, 3]\n",
      "***x= 1  ***\n",
      "v= 0\n",
      "Q= [3]\n",
      "v= 3\n",
      "Q= [3]\n",
      "v= 5\n",
      "Q= [3, 5]\n",
      "***x= 3  ***\n",
      "v= 0\n",
      "Q= [5]\n",
      "v= 1\n",
      "Q= [5]\n",
      "v= 2\n",
      "Q= [5, 2]\n",
      "***x= 5  ***\n",
      "v= 1\n",
      "Q= [2]\n",
      "v= 4\n",
      "Q= [2, 4]\n",
      "***x= 2  ***\n",
      "v= 3\n",
      "Q= [4]\n",
      "v= 6\n",
      "Q= [4, 6]\n",
      "***x= 4  ***\n",
      "v= 5\n",
      "Q= [6]\n",
      "***x= 6  ***\n",
      "v= 2\n",
      "Q= []\n"
     ]
    },
    {
     "data": {
      "image/png": "[encoded data removed]",
      "text/plain": [
       "<Figure size 432x288 with 1 Axes>"
      ]
     },
     "metadata": {},
     "output_type": "display_data"
    }
   ],
   "source": [
    "import networkx as nx\n",
    "\n",
    "def bfs(G,s):\n",
    "    \"\"\"\n",
    "    Input:\n",
    "    G: networkx graph\n",
    "    s: source node\n",
    "\n",
    "    Output:\n",
    "    L2: Labels for all nodes in graph, 0=unreachable from source, 1=reachable\n",
    "    L3: Shortest distance from source to nodes in graph\n",
    "    \"\"\"\n",
    "\n",
    "    L1 = list(G.nodes) #Assumes nodes are numbered from 0 to N-1\n",
    "    L2 = [0 for l in L1] #Labels\n",
    "    L3 = [-1000 for l in L1] #Distances\n",
    "    L4 = [[] for l in L1] #Paths \n",
    "    Q=[]\n",
    "    Q.append(s)\n",
    "    L2[s]=1\n",
    "    L3[s]=0\n",
    "    L4[s] = [s]\n",
    "    while len(Q)>0:\n",
    "        x = Q.pop(0) #remove node from front of queue\n",
    "        print(\"***x=\",x,' ***')\n",
    "        for v in G.adj[x].keys():\n",
    "            if L2[v]==0:\n",
    "                Q.append(v) #add unexplored neighbors to back of queue\n",
    "                L2[v]=1\n",
    "                L3[v]=1+L3[x]\n",
    "                #add code here\n",
    "                \n",
    "            \n",
    "            print(\"v=\",v)\n",
    "            print(\"Q=\",Q)\n",
    "    return L2,L3\n",
    "\n",
    "#graph1 = nx.gnp_random_graph(7,0.25)\n",
    "nx.draw(graph1)\n",
    "s = 0\n",
    "L2, L3 = bfs(graph1, s)"
   ]
  },
  {
   "cell_type": "markdown",
   "metadata": {},
   "source": [
    "2. Test your function with a modestly-sized Barabasi-Albert graph and verify that it computes shortest-paths correctly:"
   ]
  },
  {
   "cell_type": "code",
   "execution_count": null,
   "metadata": {},
   "outputs": [],
   "source": [
    "#Add code here\n"
   ]
  },
  {
   "cell_type": "code",
   "execution_count": null,
   "metadata": {},
   "outputs": [],
   "source": []
  },
  {
   "cell_type": "markdown",
   "metadata": {},
   "source": [
    "### Task 2: Code performance and memory"
   ]
  },
  {
   "cell_type": "markdown",
   "metadata": {},
   "source": [
    "As you move to larger problems, memory usage becomes an increasingly important consideration when developing and analyzing codes. Generally, we wish to use as little memory as possible, but there are more subtle issues that can pop up as well.\n",
    "Consider simple calculations with matrices. 2-D Numpy arrays store elements in *row-major* order which can influence the performance of seemingly similar operations with numpy arrays. Row-major order means that elements (i,j) and (i,j+1) are typically stored in adjacent locations in memory."
   ]
  },
  {
   "cell_type": "markdown",
   "metadata": {},
   "source": [
    "1) Construct a large *n x n* random matrix and: i) iterate across the rows of the matrix computing the standard deviation of each column and ii) iterate across the columns of the matrix computing the standard deviation of each row. Compare the walltime required by the two cases for a few different values of *n*. Is one case noticeably faster for large *n*?"
   ]
  },
  {
   "cell_type": "code",
   "execution_count": 58,
   "metadata": {},
   "outputs": [
    {
     "name": "stdout",
     "output_type": "stream",
     "text": [
      "1.8390846252441406 0.383969783782959\n"
     ]
    }
   ],
   "source": [
    "import numpy as np\n",
    "from time import time\n",
    "N = 10000\n",
    "Mat = np.random.rand(N, N)\n",
    "t1 = time()\n",
    "for i in range(N):\n",
    "    std1 = np.std(Mat[:, i])\n",
    "t2 = time()\n",
    "dt1 = t2-t1\n",
    "t3 = time()\n",
    "for i in range(N):\n",
    "    std2 = np.std(Mat[i, :])\n",
    "t4 = time()\n",
    "dt2 = t4-t3\n",
    "\n",
    "print(dt1, dt2)\n"
   ]
  },
  {
   "cell_type": "markdown",
   "metadata": {},
   "source": [
    "2) Now, repeat the calculations above, but replace the loops across rows or columns with the built-in method for computing standard deviations with numpy arrays. Do the timing results change?"
   ]
  },
  {
   "cell_type": "code",
   "execution_count": 64,
   "metadata": {},
   "outputs": [
    {
     "name": "stdout",
     "output_type": "stream",
     "text": [
      "0.6033790111541748 0.6542510986328125\n"
     ]
    }
   ],
   "source": [
    "import numpy as np\n",
    "from time import time\n",
    "N = 10000\n",
    "Mat = np.random.rand(N, N)\n",
    "t1 = time()\n",
    "std1 = np.std(Mat, axis=0)\n",
    "t2 = time()\n",
    "dt1 = t2-t1\n",
    "t3 = time()\n",
    "std2 = np.std(Mat, axis=1)\n",
    "t4 = time()\n",
    "dt2 = t4-t3\n",
    "print(dt1, dt2)\n"
   ]
  }
 ],
 "metadata": {
  "kernelspec": {
   "display_name": "Python 3",
   "language": "python",
   "name": "python3"
  },
  "language_info": {
   "codemirror_mode": {
    "name": "ipython",
    "version": 3
   },
   "file_extension": ".py",
   "mimetype": "text/x-python",
   "name": "python",
   "nbconvert_exporter": "python",
   "pygments_lexer": "ipython3",
   "version": "3.7.2"
  }
 },
 "nbformat": 4,
 "nbformat_minor": 1
}
